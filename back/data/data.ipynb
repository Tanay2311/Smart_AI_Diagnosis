{
 "cells": [
  {
   "cell_type": "code",
   "execution_count": 2,
   "id": "be995dbd",
   "metadata": {},
   "outputs": [
    {
     "name": "stdout",
     "output_type": "stream",
     "text": [
      "Om Namah Shivay\n"
     ]
    }
   ],
   "source": [
    "print(\"Om Namah Shivay\")"
   ]
  },
  {
   "cell_type": "code",
   "execution_count": 3,
   "id": "02c31761",
   "metadata": {},
   "outputs": [],
   "source": [
    "import pandas as pd\n",
    "import spacy\n",
    "from rapidfuzz import process, fuzz\n"
   ]
  },
  {
   "cell_type": "code",
   "execution_count": 4,
   "id": "5d20fe88",
   "metadata": {},
   "outputs": [
    {
     "name": "stderr",
     "output_type": "stream",
     "text": [
      "c:\\Users\\TanayShah\\scispacy_env\\lib\\site-packages\\spacy\\language.py:2195: FutureWarning: Possible set union at position 6328\n",
      "  deserializers[\"tokenizer\"] = lambda p: self.tokenizer.from_disk(  # type: ignore[union-attr]\n"
     ]
    }
   ],
   "source": [
    "\n",
    "# Load medical NER model\n",
    "nlp = spacy.load(\"en_ner_bc5cdr_md\")\n"
   ]
  },
  {
   "cell_type": "code",
   "execution_count": 5,
   "id": "1df09a16",
   "metadata": {},
   "outputs": [
    {
     "name": "stdout",
     "output_type": "stream",
     "text": [
      "Symptom Vocabulary: ['abdominal cramps', 'abdominal pain', 'aching', 'acid regurgitation', 'anal itching', 'anxiety', 'aura', 'blackheads', 'bleeding', 'bleeding tendency', 'blisters', 'bloating', 'blurred vision', 'brief spinning sensations', 'burning', 'chest pain', 'chest tightness', 'chills', 'cloudy urine', 'cold intolerance', 'confusion', 'congestion', 'constipation', 'cough', 'crepitus', 'dark urine', 'dehydration', 'diarrhea', 'diarrhea or constipation', 'dizziness', 'dry skin', 'elevated liver enzymes', 'fatigue', 'fever', 'frequent urge', 'frequent urination', 'headache', 'heartburn', 'heat intolerance', 'heaviness', 'hemoptysis', 'hives', 'hoarseness', 'honey-colored crusts', 'hunger', 'imbalance', 'increased thirst', 'itching', 'itchy eyes', 'itchy rash', 'jaundice', 'joint pain', 'leg swelling', 'light sensitivity', 'lower abdominal pain', 'lymphadenopathy', 'nail pitting', 'nausea', 'neck pain', 'night sweats', 'nighttime symptoms', 'nodules', 'nosebleeds', 'numbness', 'oily skin', 'oozing', 'pain during bowel movements', 'pain radiating to arm', 'painful urination', 'pale stool', 'pale stools', 'palpitations', 'pimples', 'rash', 'recurrent infections', 'red scaly plaques', 'red sores', 'redness', 'reduced motion', 'runny nose', 'scaling', 'scarring', 'shortness of breath', 'slow wounds', 'slurred speech', 'sneezing', 'sore throat', 'sputum', 'stiffness', 'sudden headache', 'sweating', 'swelling', 'swollen lymph nodes', 'throbbing headache', 'tingling in arms', 'trembling', 'tremor', 'triggered by head movements', 'visible twisted veins', 'vomiting', 'warmth', 'weakness', 'weight gain', 'weight loss', 'wheeze', 'yellowing skin/eyes']\n"
     ]
    }
   ],
   "source": [
    "\n",
    "# Read and process symptom vocabulary\n",
    "df = pd.read_csv(\"medical_knowledge.csv\")\n",
    "symptom_vocab = {s.strip().lower() for symptoms in df[\"Symptoms\"] for s in symptoms.split(\",\")}\n",
    "\n",
    "# Print to verify\n",
    "print(\"Symptom Vocabulary:\", sorted(symptom_vocab))\n",
    "\n",
    "synonym_map = {\n",
    "    \"feeling nauseous\": \"nausea\",\n",
    "    \"nauseous\": \"nausea\",\n",
    "    \"throwing up\": \"vomiting\",\n",
    "    \"tired\": \"fatigue\",\n",
    "    \"weak\": \"weakness\",\n",
    "    \"lost weight\": \"weight loss\",\n",
    "    \"sore throat\": \"sore throat\",\n",
    "    \"throat\": \"sore throat\",\n",
    "    \"sensitive to light\": \"light sensitivity\",\n",
    "    \"blurry vision\": \"blurred vision\",\n",
    "    \"vision feels blurry\": \"blurred vision\",\n",
    "    \"dehydrated\": \"dehydration\",\n",
    "    \"pale stool\": \"pale stool\",\n",
    "    \"pale stools\": \"pale stool\",\n",
    "    \"swollen legs\": \"leg swelling\",\n",
    "    \"swollen\": \"swelling\",\n",
    "    \"sweats\": \"sweating\"\n",
    "}\n",
    "\n"
   ]
  },
  {
   "cell_type": "code",
   "execution_count": 6,
   "id": "51bfcf43",
   "metadata": {},
   "outputs": [],
   "source": [
    "\n",
    "# Fuzzy matcher\n",
    "def match_symptoms(extracted, vocab):\n",
    "    matches = []\n",
    "    for symptom in extracted:\n",
    "        match, score, _ = process.extractOne(symptom.lower(), vocab, scorer=fuzz.token_sort_ratio)\n",
    "        print(f\"Matched '{symptom}' to '{match}' (score: {score})\")\n",
    "        if score > 80:\n",
    "            matches.append(match)\n",
    "    return matches\n",
    "\n"
   ]
  },
  {
   "cell_type": "code",
   "execution_count": 7,
   "id": "9d665028",
   "metadata": {},
   "outputs": [],
   "source": [
    "\n",
    "def extract_symptoms(text):\n",
    "    doc = nlp(text)\n",
    "\n",
    "    # Step 1: NER-based\n",
    "    ner_entities = [ent.text.lower() for ent in doc.ents if ent.label_ == \"DISEASE\"]\n",
    "    print(\"NER Extracted:\", ner_entities)\n",
    "\n",
    "    # Step 2: Manual synonym-based scan of input\n",
    "    synonym_hits = []\n",
    "    for phrase, canonical in synonym_map.items():\n",
    "        if phrase in text.lower():\n",
    "            synonym_hits.append(canonical)\n",
    "\n",
    "    print(\"Synonym Matches:\", synonym_hits)\n",
    "\n",
    "    # Step 3: Keyword-based match from vocab\n",
    "    keyword_matches = []\n",
    "    for vocab_symptom in symptom_vocab:\n",
    "        if vocab_symptom in text.lower():\n",
    "            keyword_matches.append(vocab_symptom)\n",
    "    print(\"Keyword Matches:\", keyword_matches)\n",
    "\n",
    "    # Combine all sources\n",
    "    combined = list(set(ner_entities + synonym_hits + keyword_matches))\n",
    "\n",
    "    # Step 4: Fuzzy match to canonical vocab\n",
    "    final_matches = match_symptoms(combined, symptom_vocab)\n",
    "\n",
    "    return list(set(final_matches))"
   ]
  },
  {
   "cell_type": "code",
   "execution_count": 8,
   "id": "1fda604f",
   "metadata": {},
   "outputs": [],
   "source": [
    "synonym_map.update({\n",
    "    \"dizzy\": \"dizziness\",\n",
    "    \"lightheaded\": \"dizziness\",\n",
    "    \"lost some weight\": \"weight loss\",\n",
    "    \"weight lost\": \"weight loss\",\n",
    "    \"itchy\": \"itching\",\n",
    "    \"itchy skin\": \"itching\",\n",
    "    \"dehydrated\": \"dehydration\",\n",
    "    \"pale stool\": \"pale stool\",\n",
    "    \"pale stools\": \"pale stool\",\n",
    "    \"urinate painfully\": \"painful urination\"\n",
    "})\n"
   ]
  },
  {
   "cell_type": "code",
   "execution_count": 9,
   "id": "a07d3089",
   "metadata": {},
   "outputs": [
    {
     "name": "stdout",
     "output_type": "stream",
     "text": [
      "\n",
      "Test Case 1: I've had a terrible headache and chills since last night.\n",
      "NER Extracted: ['headache', 'chills']\n",
      "Synonym Matches: []\n",
      "Keyword Matches: ['chills', 'headache']\n",
      "Matched 'headache' to 'headache' (score: 100.0)\n",
      "Matched 'chills' to 'chills' (score: 100.0)\n",
      "Extracted Symptoms: ['headache', 'chills']\n",
      "\n",
      "Test Case 2: Feeling nauseous and dizzy with occasional vomiting.\n",
      "NER Extracted: ['vomiting']\n",
      "Synonym Matches: ['nausea', 'nausea', 'dizziness']\n",
      "Keyword Matches: ['vomiting']\n",
      "Matched 'vomiting' to 'vomiting' (score: 100.0)\n",
      "Matched 'dizziness' to 'dizziness' (score: 100.0)\n",
      "Matched 'nausea' to 'nausea' (score: 100.0)\n",
      "Extracted Symptoms: ['vomiting', 'dizziness', 'nausea']\n",
      "\n",
      "Test Case 3: My throat is sore and I'm constantly sneezing with a runny nose.\n",
      "NER Extracted: ['throat', 'sore']\n",
      "Synonym Matches: ['sore throat']\n",
      "Keyword Matches: ['runny nose', 'sneezing']\n",
      "Matched 'sore throat' to 'sore throat' (score: 100.0)\n",
      "Matched 'sneezing' to 'sneezing' (score: 100.0)\n",
      "Matched 'throat' to 'sore throat' (score: 70.58823529411764)\n",
      "Matched 'sore' to 'red sores' (score: 61.53846153846154)\n",
      "Matched 'runny nose' to 'runny nose' (score: 100.0)\n",
      "Extracted Symptoms: ['runny nose', 'sore throat', 'sneezing']\n",
      "\n",
      "Test Case 4: I feel extremely tired, weak, and have lost some weight recently.\n",
      "NER Extracted: []\n",
      "Synonym Matches: ['fatigue', 'weakness', 'weight loss']\n",
      "Keyword Matches: []\n",
      "Matched 'weakness' to 'weakness' (score: 100.0)\n",
      "Matched 'weight loss' to 'weight loss' (score: 100.0)\n",
      "Matched 'fatigue' to 'fatigue' (score: 100.0)\n",
      "Extracted Symptoms: ['fatigue', 'weight loss', 'weakness']\n",
      "\n",
      "Test Case 5: My skin is itchy with red rash and some small blisters forming.\n",
      "NER Extracted: ['itchy', 'rash', 'blisters']\n",
      "Synonym Matches: ['itching']\n",
      "Keyword Matches: ['blisters', 'rash']\n",
      "Matched 'itchy' to 'itchy eyes' (score: 66.66666666666667)\n",
      "Matched 'itching' to 'itching' (score: 100.0)\n",
      "Matched 'rash' to 'rash' (score: 100.0)\n",
      "Matched 'blisters' to 'blisters' (score: 100.0)\n",
      "Extracted Symptoms: ['itching', 'rash', 'blisters']\n",
      "\n",
      "Test Case 6: Experiencing chest pain and shortness of breath, especially when walking.\n",
      "NER Extracted: ['chest pain', 'shortness of breath']\n",
      "Synonym Matches: []\n",
      "Keyword Matches: ['shortness of breath', 'chest pain']\n",
      "Matched 'shortness of breath' to 'shortness of breath' (score: 100.0)\n",
      "Matched 'chest pain' to 'chest pain' (score: 100.0)\n",
      "Extracted Symptoms: ['shortness of breath', 'chest pain']\n",
      "\n",
      "Test Case 7: I've been having diarrhea and abdominal cramps for two days.\n",
      "NER Extracted: ['diarrhea', 'abdominal cramps']\n",
      "Synonym Matches: []\n",
      "Keyword Matches: ['diarrhea', 'abdominal cramps']\n",
      "Matched 'diarrhea' to 'diarrhea' (score: 100.0)\n",
      "Matched 'abdominal cramps' to 'abdominal cramps' (score: 100.0)\n",
      "Extracted Symptoms: ['diarrhea', 'abdominal cramps']\n",
      "\n",
      "Test Case 8: I have a weird burning sensation when I pee and some lower abdominal pain.\n",
      "NER Extracted: ['abdominal pain']\n",
      "Synonym Matches: []\n",
      "Keyword Matches: ['burning', 'abdominal pain', 'lower abdominal pain']\n",
      "Matched 'abdominal pain' to 'abdominal pain' (score: 100.0)\n",
      "Matched 'burning' to 'burning' (score: 100.0)\n",
      "Matched 'lower abdominal pain' to 'lower abdominal pain' (score: 100.0)\n",
      "Extracted Symptoms: ['abdominal pain', 'burning', 'lower abdominal pain']\n",
      "\n",
      "Test Case 9: Lately I’ve been really sensitive to light and my vision feels blurry.\n",
      "NER Extracted: []\n",
      "Synonym Matches: ['light sensitivity', 'blurred vision']\n",
      "Keyword Matches: []\n",
      "Matched 'light sensitivity' to 'light sensitivity' (score: 100.0)\n",
      "Matched 'blurred vision' to 'blurred vision' (score: 100.0)\n",
      "Extracted Symptoms: ['light sensitivity', 'blurred vision']\n",
      "\n",
      "Test Case 10: There’s a fever, night sweats, and I’m coughing up sputum.\n",
      "NER Extracted: ['fever', 'sweats']\n",
      "Synonym Matches: ['sweating']\n",
      "Keyword Matches: ['sputum', 'fever', 'cough', 'night sweats']\n",
      "Matched 'fever' to 'fever' (score: 100.0)\n",
      "Matched 'sweating' to 'sweating' (score: 100.0)\n",
      "Matched 'sweats' to 'sweating' (score: 71.42857142857143)\n",
      "Matched 'cough' to 'cough' (score: 100.0)\n",
      "Matched 'sputum' to 'sputum' (score: 100.0)\n",
      "Matched 'night sweats' to 'night sweats' (score: 100.0)\n",
      "Extracted Symptoms: ['fever', 'sweating', 'cough', 'sputum', 'night sweats']\n",
      "\n",
      "Test Case 11: My legs feel swollen and I noticed some visible twisted veins.\n",
      "NER Extracted: []\n",
      "Synonym Matches: ['swelling']\n",
      "Keyword Matches: ['visible twisted veins']\n",
      "Matched 'swelling' to 'swelling' (score: 100.0)\n",
      "Matched 'visible twisted veins' to 'visible twisted veins' (score: 100.0)\n",
      "Extracted Symptoms: ['swelling', 'visible twisted veins']\n",
      "\n",
      "Test Case 12: I’m vomiting, feeling dehydrated, and my stool looks pale.\n",
      "NER Extracted: ['vomiting']\n",
      "Synonym Matches: ['dehydration']\n",
      "Keyword Matches: ['vomiting']\n",
      "Matched 'vomiting' to 'vomiting' (score: 100.0)\n",
      "Matched 'dehydration' to 'dehydration' (score: 100.0)\n",
      "Extracted Symptoms: ['vomiting', 'dehydration']\n"
     ]
    }
   ],
   "source": [
    "#Testing\n",
    "test_inputs = [\n",
    "    \"I've had a terrible headache and chills since last night.\",\n",
    "    \"Feeling nauseous and dizzy with occasional vomiting.\",\n",
    "    \"My throat is sore and I'm constantly sneezing with a runny nose.\",\n",
    "    \"I feel extremely tired, weak, and have lost some weight recently.\",\n",
    "    \"My skin is itchy with red rash and some small blisters forming.\",\n",
    "    \"Experiencing chest pain and shortness of breath, especially when walking.\",\n",
    "    \"I've been having diarrhea and abdominal cramps for two days.\",\n",
    "    \"I have a weird burning sensation when I pee and some lower abdominal pain.\",\n",
    "    \"Lately I’ve been really sensitive to light and my vision feels blurry.\",\n",
    "    \"There’s a fever, night sweats, and I’m coughing up sputum.\",\n",
    "    \"My legs feel swollen and I noticed some visible twisted veins.\",\n",
    "    \"I’m vomiting, feeling dehydrated, and my stool looks pale.\"\n",
    "]\n",
    "\n",
    "# 2. Loop and test\n",
    "for i, sentence in enumerate(test_inputs, 1):\n",
    "    print(f\"\\nTest Case {i}: {sentence}\")\n",
    "    extracted = extract_symptoms(sentence)\n",
    "    print(f\"Extracted Symptoms: {extracted}\")\n"
   ]
  },
  {
   "cell_type": "markdown",
   "id": "1209710f",
   "metadata": {},
   "source": [
    "Disease Prediction"
   ]
  },
  {
   "cell_type": "code",
   "execution_count": 10,
   "id": "afd8d059",
   "metadata": {},
   "outputs": [],
   "source": [
    "# Convert disease symptom lists to sets\n",
    "df[\"SymptomSet\"] = df[\"Symptoms\"].apply(lambda x: {s.strip().lower() for s in x.split(\",\")})\n",
    "\n",
    "def predict_disease(user_symptoms, top_k=3):\n",
    "    \"\"\"Predict disease based on overlap with known symptoms.\"\"\"\n",
    "    predictions = []\n",
    "\n",
    "    for _, row in df.iterrows():\n",
    "        known_symptoms = row[\"SymptomSet\"]\n",
    "        match_count = len(set(user_symptoms) & known_symptoms)\n",
    "        score = match_count / len(known_symptoms)  # Jaccard-like\n",
    "        if match_count > 0:\n",
    "            predictions.append((row[\"Disease\"], score, match_count, known_symptoms))\n",
    "\n",
    "    # Sort by score and match count\n",
    "    predictions.sort(key=lambda x: (-x[1], -x[2]))\n",
    "\n",
    "    # Return top K predictions\n",
    "    top_predictions = predictions[:top_k]\n",
    "    print(\"\\n🩺 Top Disease Predictions:\")\n",
    "    for disease, score, count, symptoms in top_predictions:\n",
    "        print(f\"- {disease} (match: {count}, score: {score:.2f}, needed: {symptoms})\")\n",
    "\n",
    "    return [d[0] for d in top_predictions]"
   ]
  },
  {
   "cell_type": "code",
   "execution_count": 11,
   "id": "c08f5d20",
   "metadata": {},
   "outputs": [
    {
     "name": "stdout",
     "output_type": "stream",
     "text": [
      "NER Extracted: ['headache', 'chills']\n",
      "Synonym Matches: []\n",
      "Keyword Matches: ['chills', 'headache']\n",
      "Matched 'headache' to 'headache' (score: 100.0)\n",
      "Matched 'chills' to 'chills' (score: 100.0)\n",
      "\n",
      "🩺 Top Disease Predictions:\n",
      "- Malaria (match: 2, score: 0.40, needed: {'headache', 'fever', 'sweating', 'chills', 'fatigue'})\n",
      "- Hypoglycemia (match: 1, score: 0.20, needed: {'headache', 'trembling', 'sweating', 'hunger', 'confusion'})\n",
      "- Hypertension (match: 1, score: 0.20, needed: {'headache', 'nosebleeds', 'chest pain', 'dizziness', 'blurred vision'})\n"
     ]
    }
   ],
   "source": [
    "# Simulate input\n",
    "text = \"I've had a terrible headache and chills since last night.\"\n",
    "extracted = extract_symptoms(text)  # from earlier step\n",
    "\n",
    "# Predict diseases\n",
    "predicted = predict_disease(extracted)\n"
   ]
  },
  {
   "cell_type": "code",
   "execution_count": 12,
   "id": "5db838d9",
   "metadata": {},
   "outputs": [],
   "source": [
    "def create_doc(row):\n",
    "    return f\"\"\"Disease: {row['Disease']}\n",
    "Symptoms: {row['Symptoms']}\n",
    "Description: {row['Description']}\n",
    "Treatment: {row['Treatment']}\n",
    "Risk Factors: {row['Risk_Factors']}\"\"\"\n",
    "\n",
    "docs = df.apply(create_doc, axis=1).tolist()"
   ]
  },
  {
   "cell_type": "markdown",
   "id": "d18ad6f3",
   "metadata": {},
   "source": [
    "Retrieval"
   ]
  },
  {
   "cell_type": "code",
   "execution_count": 13,
   "id": "ab8a4f31",
   "metadata": {},
   "outputs": [
    {
     "name": "stderr",
     "output_type": "stream",
     "text": [
      "c:\\Users\\TanayShah\\scispacy_env\\lib\\site-packages\\tqdm\\auto.py:21: TqdmWarning: IProgress not found. Please update jupyter and ipywidgets. See https://ipywidgets.readthedocs.io/en/stable/user_install.html\n",
      "  from .autonotebook import tqdm as notebook_tqdm\n",
      "c:\\Users\\TanayShah\\scispacy_env\\lib\\site-packages\\huggingface_hub\\file_download.py:143: UserWarning: `huggingface_hub` cache-system uses symlinks by default to efficiently store duplicated files but your machine does not support them in C:\\Users\\TanayShah\\.cache\\huggingface\\hub\\models--sentence-transformers--all-MiniLM-L6-v2. Caching files will still work but in a degraded version that might require more space on your disk. This warning can be disabled by setting the `HF_HUB_DISABLE_SYMLINKS_WARNING` environment variable. For more details, see https://huggingface.co/docs/huggingface_hub/how-to-cache#limitations.\n",
      "To support symlinks on Windows, you either need to activate Developer Mode or to run Python as an administrator. In order to activate developer mode, see this article: https://docs.microsoft.com/en-us/windows/apps/get-started/enable-your-device-for-development\n",
      "  warnings.warn(message)\n",
      "Xet Storage is enabled for this repo, but the 'hf_xet' package is not installed. Falling back to regular HTTP download. For better performance, install the package with: `pip install huggingface_hub[hf_xet]` or `pip install hf_xet`\n"
     ]
    }
   ],
   "source": [
    "from sentence_transformers import SentenceTransformer\n",
    "import numpy as np\n",
    "\n",
    "model = SentenceTransformer('all-MiniLM-L6-v2')\n",
    "doc_embeddings = model.encode(docs)\n"
   ]
  },
  {
   "cell_type": "code",
   "execution_count": 14,
   "id": "a0aef0ae",
   "metadata": {},
   "outputs": [],
   "source": [
    "import faiss\n",
    "\n",
    "dimension = doc_embeddings.shape[1]\n",
    "index = faiss.IndexFlatL2(dimension)  # L2 distance\n",
    "index.add(np.array(doc_embeddings))\n",
    "\n",
    "# Optional: keep track of which index maps to which disease\n",
    "id_to_disease = {i: df.iloc[i][\"Disease\"] for i in range(len(df))}\n"
   ]
  },
  {
   "cell_type": "code",
   "execution_count": 15,
   "id": "6f405a5c",
   "metadata": {},
   "outputs": [
    {
     "name": "stdout",
     "output_type": "stream",
     "text": [
      "Top Matches:\n",
      "1. Migraine (score: 1.21)\n",
      "2. Common Cold (score: 1.35)\n",
      "3. Paralysis (brain hemorrhage) (score: 1.35)\n",
      "4. Dengue (score: 1.38)\n",
      "5. Malaria (score: 1.38)\n"
     ]
    }
   ],
   "source": [
    "query = \", \".join([\"headache\", \"chills\"])\n",
    "query_vector = model.encode([query])\n",
    "\n",
    "top_k = 5\n",
    "D, I = index.search(np.array(query_vector), top_k)\n",
    "\n",
    "print(\"Top Matches:\")\n",
    "for i, idx in enumerate(I[0]):\n",
    "    print(f\"{i+1}. {id_to_disease[idx]} (score: {D[0][i]:.2f})\")\n"
   ]
  },
  {
   "cell_type": "markdown",
   "id": "5328dbc3",
   "metadata": {},
   "source": [
    "Diagnosis"
   ]
  },
  {
   "cell_type": "code",
   "execution_count": 16,
   "id": "ccc358c6",
   "metadata": {},
   "outputs": [],
   "source": [
    "from langchain.docstore.document import Document\n",
    "\n",
    "documents = [\n",
    "    Document(page_content=docs[i], metadata={\"source\": df.iloc[i][\"Disease\"]})\n",
    "    for i in range(len(df))\n",
    "]\n"
   ]
  },
  {
   "cell_type": "code",
   "execution_count": null,
   "id": "1e0b2529",
   "metadata": {},
   "outputs": [],
   "source": []
  }
 ],
 "metadata": {
  "kernelspec": {
   "display_name": "scispacy_env",
   "language": "python",
   "name": "scispacy_env"
  },
  "language_info": {
   "codemirror_mode": {
    "name": "ipython",
    "version": 3
   },
   "file_extension": ".py",
   "mimetype": "text/x-python",
   "name": "python",
   "nbconvert_exporter": "python",
   "pygments_lexer": "ipython3",
   "version": "3.9.13"
  }
 },
 "nbformat": 4,
 "nbformat_minor": 5
}
